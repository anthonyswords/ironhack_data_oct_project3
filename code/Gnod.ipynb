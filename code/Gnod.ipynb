{
 "cells": [
  {
   "cell_type": "code",
   "execution_count": 1,
   "metadata": {},
   "outputs": [],
   "source": [
    "import requests \n",
    "from bs4 import BeautifulSoup\n",
    "import pandas as pd\n",
    "import numpy as np\n",
    "import spotipy\n",
    "from spotipy.oauth2 import SpotifyClientCredentials"
   ]
  },
  {
   "cell_type": "code",
   "execution_count": 2,
   "metadata": {},
   "outputs": [],
   "source": [
    "#Initialize SpotiPy with user credentias\n",
    "\n",
    "spotify = spotipy.Spotify(auth_manager=SpotifyClientCredentials(\n",
    "    client_id = \"db0a0f2a96414c5283bb950e7a6cc8f6\",\n",
    "    client_secret = \"c7e29a36d7be4cd5981c1bfed88d57c7\"))"
   ]
  },
  {
   "cell_type": "code",
   "execution_count": 3,
   "metadata": {},
   "outputs": [],
   "source": [
    "# creating a variable with the url of the web site we want to scrap\n",
    "\n",
    "url = \"https://www.billboard.com/charts/hot-100\""
   ]
  },
  {
   "cell_type": "code",
   "execution_count": 4,
   "metadata": {},
   "outputs": [],
   "source": [
    "# crating a variable where we store all the html from the web site using the requests.get() method\n",
    "\n",
    "response = requests.get(url)"
   ]
  },
  {
   "cell_type": "code",
   "execution_count": 5,
   "metadata": {},
   "outputs": [],
   "source": [
    "# parse html using beuatifulSoup\n",
    "\n",
    "billboard = BeautifulSoup(response.content, \"html.parser\")"
   ]
  },
  {
   "cell_type": "markdown",
   "metadata": {},
   "source": [
    "---"
   ]
  },
  {
   "cell_type": "code",
   "execution_count": 6,
   "metadata": {},
   "outputs": [],
   "source": [
    "songs_list = []\n",
    "\n",
    "for song in billboard.select(\"span.chart-element__information__song.text--truncate.color--primary\"):\n",
    "    songs_list.append(song.get_text())"
   ]
  },
  {
   "cell_type": "markdown",
   "metadata": {},
   "source": [
    "---"
   ]
  },
  {
   "cell_type": "code",
   "execution_count": 7,
   "metadata": {},
   "outputs": [],
   "source": [
    "artist_name = []\n",
    "\n",
    "for artist in billboard.select(\"span.chart-element__information__artist.text--truncate.color--secondary\"):\n",
    "    artist_name.append(artist.get_text())"
   ]
  },
  {
   "cell_type": "markdown",
   "metadata": {},
   "source": [
    "---"
   ]
  },
  {
   "cell_type": "code",
   "execution_count": 8,
   "metadata": {},
   "outputs": [],
   "source": [
    "current_week_rank = []\n",
    "\n",
    "for c_week in billboard.select(\"span.chart-element__rank__number\"):\n",
    "    current_week_rank.append(c_week.get_text())"
   ]
  },
  {
   "cell_type": "markdown",
   "metadata": {},
   "source": [
    "---"
   ]
  },
  {
   "cell_type": "code",
   "execution_count": 9,
   "metadata": {},
   "outputs": [],
   "source": [
    "last_week = []\n",
    "\n",
    "for last in billboard.select(\"span.chart-element__meta.text--center.color--secondary.text--last\"):\n",
    "    last_week.append(last.get_text())"
   ]
  },
  {
   "cell_type": "markdown",
   "metadata": {},
   "source": [
    "---"
   ]
  },
  {
   "cell_type": "code",
   "execution_count": 10,
   "metadata": {},
   "outputs": [],
   "source": [
    "peak_week = []\n",
    "\n",
    "for peak in billboard.select(\"span.chart-element__meta.text--center.color--secondary.text--peak\"):\n",
    "    peak_week.append(peak.get_text())"
   ]
  },
  {
   "cell_type": "markdown",
   "metadata": {},
   "source": [
    "---"
   ]
  },
  {
   "cell_type": "code",
   "execution_count": 11,
   "metadata": {},
   "outputs": [],
   "source": [
    "weeks = []\n",
    "\n",
    "for week in billboard.select(\"span.chart-element__meta.text--center.color--secondary.text--week\"):\n",
    "    weeks.append(week.get_text())"
   ]
  },
  {
   "cell_type": "markdown",
   "metadata": {},
   "source": [
    "---"
   ]
  },
  {
   "cell_type": "code",
   "execution_count": 12,
   "metadata": {},
   "outputs": [],
   "source": [
    "billboard_rank = pd.DataFrame({\n",
    "    \"song_name\":songs_list,\n",
    "    \"artis\":artist_name,\n",
    "    \"current_rank\":current_week_rank,\n",
    "    \"last_week\":last_week,\n",
    "    \"peak\":peak_week,\n",
    "    \"weeks_on_chart\":weeks\n",
    "})"
   ]
  },
  {
   "cell_type": "code",
   "execution_count": 13,
   "metadata": {},
   "outputs": [],
   "source": [
    "billboard_rank[\"last_week\"].replace(to_replace= \"-\", value=0, inplace=True)"
   ]
  },
  {
   "cell_type": "code",
   "execution_count": 14,
   "metadata": {},
   "outputs": [],
   "source": [
    "billboard_rank[['current_rank', 'last_week', 'peak', 'weeks_on_chart']] = billboard_rank[['current_rank', 'last_week', 'peak', 'weeks_on_chart']].astype('int')"
   ]
  },
  {
   "cell_type": "code",
   "execution_count": 15,
   "metadata": {},
   "outputs": [],
   "source": [
    "billboard_rank[\"steady\"] = np.where(billboard_rank[\"last_week\"]== 0, \"New\", billboard_rank[\"last_week\"]-billboard_rank[\"current_rank\"])"
   ]
  },
  {
   "cell_type": "code",
   "execution_count": 16,
   "metadata": {},
   "outputs": [],
   "source": [
    "billboard_rank[\"song_name\"] = billboard_rank[\"song_name\"].apply(lambda x: x.capitalize())"
   ]
  },
  {
   "cell_type": "code",
   "execution_count": 17,
   "metadata": {},
   "outputs": [
    {
     "data": {
      "text/html": [
       "<div>\n",
       "<style scoped>\n",
       "    .dataframe tbody tr th:only-of-type {\n",
       "        vertical-align: middle;\n",
       "    }\n",
       "\n",
       "    .dataframe tbody tr th {\n",
       "        vertical-align: top;\n",
       "    }\n",
       "\n",
       "    .dataframe thead th {\n",
       "        text-align: right;\n",
       "    }\n",
       "</style>\n",
       "<table border=\"1\" class=\"dataframe\">\n",
       "  <thead>\n",
       "    <tr style=\"text-align: right;\">\n",
       "      <th></th>\n",
       "      <th>song_name</th>\n",
       "      <th>artis</th>\n",
       "      <th>current_rank</th>\n",
       "      <th>last_week</th>\n",
       "      <th>peak</th>\n",
       "      <th>weeks_on_chart</th>\n",
       "      <th>steady</th>\n",
       "    </tr>\n",
       "  </thead>\n",
       "  <tbody>\n",
       "    <tr>\n",
       "      <th>0</th>\n",
       "      <td>Positions</td>\n",
       "      <td>Ariana Grande</td>\n",
       "      <td>1</td>\n",
       "      <td>0</td>\n",
       "      <td>1</td>\n",
       "      <td>1</td>\n",
       "      <td>New</td>\n",
       "    </tr>\n",
       "    <tr>\n",
       "      <th>1</th>\n",
       "      <td>Forever after all</td>\n",
       "      <td>Luke Combs</td>\n",
       "      <td>2</td>\n",
       "      <td>0</td>\n",
       "      <td>2</td>\n",
       "      <td>1</td>\n",
       "      <td>New</td>\n",
       "    </tr>\n",
       "    <tr>\n",
       "      <th>2</th>\n",
       "      <td>Mood</td>\n",
       "      <td>24kGoldn Featuring iann dior</td>\n",
       "      <td>3</td>\n",
       "      <td>1</td>\n",
       "      <td>1</td>\n",
       "      <td>12</td>\n",
       "      <td>-2</td>\n",
       "    </tr>\n",
       "    <tr>\n",
       "      <th>3</th>\n",
       "      <td>Laugh now cry later</td>\n",
       "      <td>Drake Featuring Lil Durk</td>\n",
       "      <td>4</td>\n",
       "      <td>3</td>\n",
       "      <td>2</td>\n",
       "      <td>11</td>\n",
       "      <td>-1</td>\n",
       "    </tr>\n",
       "    <tr>\n",
       "      <th>4</th>\n",
       "      <td>Blinding lights</td>\n",
       "      <td>The Weeknd</td>\n",
       "      <td>5</td>\n",
       "      <td>4</td>\n",
       "      <td>1</td>\n",
       "      <td>48</td>\n",
       "      <td>-1</td>\n",
       "    </tr>\n",
       "    <tr>\n",
       "      <th>...</th>\n",
       "      <td>...</td>\n",
       "      <td>...</td>\n",
       "      <td>...</td>\n",
       "      <td>...</td>\n",
       "      <td>...</td>\n",
       "      <td>...</td>\n",
       "      <td>...</td>\n",
       "    </tr>\n",
       "    <tr>\n",
       "      <th>95</th>\n",
       "      <td>Cardigan</td>\n",
       "      <td>Taylor Swift</td>\n",
       "      <td>96</td>\n",
       "      <td>88</td>\n",
       "      <td>1</td>\n",
       "      <td>14</td>\n",
       "      <td>-8</td>\n",
       "    </tr>\n",
       "    <tr>\n",
       "      <th>96</th>\n",
       "      <td>Forget me too</td>\n",
       "      <td>Machine Gun Kelly &amp; Halsey</td>\n",
       "      <td>97</td>\n",
       "      <td>0</td>\n",
       "      <td>44</td>\n",
       "      <td>3</td>\n",
       "      <td>New</td>\n",
       "    </tr>\n",
       "    <tr>\n",
       "      <th>97</th>\n",
       "      <td>La toxica</td>\n",
       "      <td>Farruko</td>\n",
       "      <td>98</td>\n",
       "      <td>0</td>\n",
       "      <td>98</td>\n",
       "      <td>1</td>\n",
       "      <td>New</td>\n",
       "    </tr>\n",
       "    <tr>\n",
       "      <th>98</th>\n",
       "      <td>Head &amp; heart</td>\n",
       "      <td>Joel Corry X MNEK</td>\n",
       "      <td>99</td>\n",
       "      <td>0</td>\n",
       "      <td>99</td>\n",
       "      <td>1</td>\n",
       "      <td>New</td>\n",
       "    </tr>\n",
       "    <tr>\n",
       "      <th>99</th>\n",
       "      <td>Wine, beer, whiskey</td>\n",
       "      <td>Little Big Town</td>\n",
       "      <td>100</td>\n",
       "      <td>0</td>\n",
       "      <td>100</td>\n",
       "      <td>1</td>\n",
       "      <td>New</td>\n",
       "    </tr>\n",
       "  </tbody>\n",
       "</table>\n",
       "<p>100 rows × 7 columns</p>\n",
       "</div>"
      ],
      "text/plain": [
       "              song_name                         artis  current_rank  \\\n",
       "0             Positions                 Ariana Grande             1   \n",
       "1     Forever after all                    Luke Combs             2   \n",
       "2                  Mood  24kGoldn Featuring iann dior             3   \n",
       "3   Laugh now cry later      Drake Featuring Lil Durk             4   \n",
       "4       Blinding lights                    The Weeknd             5   \n",
       "..                  ...                           ...           ...   \n",
       "95             Cardigan                  Taylor Swift            96   \n",
       "96        Forget me too    Machine Gun Kelly & Halsey            97   \n",
       "97            La toxica                       Farruko            98   \n",
       "98         Head & heart             Joel Corry X MNEK            99   \n",
       "99  Wine, beer, whiskey               Little Big Town           100   \n",
       "\n",
       "    last_week  peak  weeks_on_chart steady  \n",
       "0           0     1               1    New  \n",
       "1           0     2               1    New  \n",
       "2           1     1              12     -2  \n",
       "3           3     2              11     -1  \n",
       "4           4     1              48     -1  \n",
       "..        ...   ...             ...    ...  \n",
       "95         88     1              14     -8  \n",
       "96          0    44               3    New  \n",
       "97          0    98               1    New  \n",
       "98          0    99               1    New  \n",
       "99          0   100               1    New  \n",
       "\n",
       "[100 rows x 7 columns]"
      ]
     },
     "execution_count": 17,
     "metadata": {},
     "output_type": "execute_result"
    }
   ],
   "source": [
    "billboard_rank"
   ]
  },
  {
   "cell_type": "markdown",
   "metadata": {},
   "source": [
    "### Playlist Not Hot Songs"
   ]
  },
  {
   "cell_type": "code",
   "execution_count": 18,
   "metadata": {},
   "outputs": [],
   "source": [
    "playlist = spotify.user_playlist_tracks(user=\"spotify\", playlist_id=\"spotify:playlist:6yPiKpy7evrwvZodByKvM9\")"
   ]
  },
  {
   "cell_type": "code",
   "execution_count": 19,
   "metadata": {},
   "outputs": [],
   "source": [
    "loops = list(range(0, 10001, 100))"
   ]
  },
  {
   "cell_type": "code",
   "execution_count": 20,
   "metadata": {},
   "outputs": [],
   "source": [
    "playlist = spotify.user_playlist_tracks(user=\"spotify\", playlist_id=\"spotify:playlist:6yPiKpy7evrwvZodByKvM9\", offset = loops)"
   ]
  },
  {
   "cell_type": "code",
   "execution_count": 21,
   "metadata": {},
   "outputs": [],
   "source": [
    "loop_list = []\n",
    "\n",
    "for l in loops:\n",
    "     loop_list.append(spotify.user_playlist_tracks(user=\"spotify\", playlist_id=\"spotify:playlist:6yPiKpy7evrwvZodByKvM9\", offset = l))\n",
    "    "
   ]
  },
  {
   "cell_type": "code",
   "execution_count": 22,
   "metadata": {},
   "outputs": [
    {
     "data": {
      "text/plain": [
       "101"
      ]
     },
     "execution_count": 22,
     "metadata": {},
     "output_type": "execute_result"
    }
   ],
   "source": [
    "len(loop_list)"
   ]
  },
  {
   "cell_type": "code",
   "execution_count": 23,
   "metadata": {},
   "outputs": [
    {
     "data": {
      "text/plain": [
       "'spotify:track:33xMbeHzmWd6Od0BmLZEUs'"
      ]
     },
     "execution_count": 23,
     "metadata": {},
     "output_type": "execute_result"
    }
   ],
   "source": [
    "loop_list[0][\"items\"][0][\"track\"][\"uri\"]"
   ]
  },
  {
   "cell_type": "code",
   "execution_count": 24,
   "metadata": {},
   "outputs": [],
   "source": [
    "#features = []\n",
    "\n",
    "#for elem in loop_list:\n",
    "#    for ids in elem[\"items\"]:\n",
    "#        features.append(ids[\"track\"][\"uri\"])"
   ]
  },
  {
   "cell_type": "code",
   "execution_count": 25,
   "metadata": {},
   "outputs": [],
   "source": [
    "#good_indeces = np.array([len(i) for i in features]) <= 36 \n",
    "#good_list = np.array(features)[good_indeces]\n",
    "#super_good_indices = np.array([len(i) for i in features]) == 24\n",
    "#super_good_list = np.array(features)[super_good_indeces]"
   ]
  },
  {
   "cell_type": "code",
   "execution_count": 26,
   "metadata": {},
   "outputs": [],
   "source": [
    "#audio_features = []\n",
    "\n",
    "#try: \n",
    "#for elem in good_list:\n",
    "#    audio_features.append(spotify.audio_features(elem))\n",
    "#except:\n",
    "#    pass"
   ]
  },
  {
   "cell_type": "code",
   "execution_count": 27,
   "metadata": {},
   "outputs": [],
   "source": [
    "#len(audio_features)"
   ]
  },
  {
   "cell_type": "code",
   "execution_count": 28,
   "metadata": {},
   "outputs": [],
   "source": [
    "#audio_features[0]"
   ]
  },
  {
   "cell_type": "markdown",
   "metadata": {},
   "source": [
    "### Clustering"
   ]
  },
  {
   "cell_type": "code",
   "execution_count": 29,
   "metadata": {},
   "outputs": [],
   "source": [
    "import pandas as pd\n",
    "from sklearn import datasets"
   ]
  },
  {
   "cell_type": "code",
   "execution_count": 30,
   "metadata": {},
   "outputs": [],
   "source": [
    "#features_db.to_csv(r'/Users/pau/Dropbox/Pau/Ironhack/Week3/Project 3/dataframe.csv', index = False, header=True)"
   ]
  },
  {
   "cell_type": "code",
   "execution_count": 31,
   "metadata": {},
   "outputs": [],
   "source": [
    "features_db = pd.read_csv(\"data/dataframe.csv\")\n",
    "\n",
    "#pd.concat([pd.DataFrame(ft) for ft in audio_features])"
   ]
  },
  {
   "cell_type": "code",
   "execution_count": 32,
   "metadata": {},
   "outputs": [
    {
     "data": {
      "text/html": [
       "<div>\n",
       "<style scoped>\n",
       "    .dataframe tbody tr th:only-of-type {\n",
       "        vertical-align: middle;\n",
       "    }\n",
       "\n",
       "    .dataframe tbody tr th {\n",
       "        vertical-align: top;\n",
       "    }\n",
       "\n",
       "    .dataframe thead th {\n",
       "        text-align: right;\n",
       "    }\n",
       "</style>\n",
       "<table border=\"1\" class=\"dataframe\">\n",
       "  <thead>\n",
       "    <tr style=\"text-align: right;\">\n",
       "      <th></th>\n",
       "      <th>0</th>\n",
       "      <th>acousticness</th>\n",
       "      <th>analysis_url</th>\n",
       "      <th>danceability</th>\n",
       "      <th>duration_ms</th>\n",
       "      <th>energy</th>\n",
       "      <th>id</th>\n",
       "      <th>instrumentalness</th>\n",
       "      <th>key</th>\n",
       "      <th>liveness</th>\n",
       "      <th>loudness</th>\n",
       "      <th>mode</th>\n",
       "      <th>speechiness</th>\n",
       "      <th>tempo</th>\n",
       "      <th>time_signature</th>\n",
       "      <th>track_href</th>\n",
       "      <th>type</th>\n",
       "      <th>uri</th>\n",
       "      <th>valence</th>\n",
       "    </tr>\n",
       "  </thead>\n",
       "  <tbody>\n",
       "    <tr>\n",
       "      <th>0</th>\n",
       "      <td>NaN</td>\n",
       "      <td>0.0940</td>\n",
       "      <td>https://api.spotify.com/v1/audio-analysis/33xM...</td>\n",
       "      <td>0.310</td>\n",
       "      <td>152560.0</td>\n",
       "      <td>0.445</td>\n",
       "      <td>33xMbeHzmWd6Od0BmLZEUs</td>\n",
       "      <td>0.06780</td>\n",
       "      <td>7.0</td>\n",
       "      <td>0.1130</td>\n",
       "      <td>-13.355</td>\n",
       "      <td>0.0</td>\n",
       "      <td>0.0863</td>\n",
       "      <td>95.360</td>\n",
       "      <td>3.0</td>\n",
       "      <td>https://api.spotify.com/v1/tracks/33xMbeHzmWd6...</td>\n",
       "      <td>audio_features</td>\n",
       "      <td>spotify:track:33xMbeHzmWd6Od0BmLZEUs</td>\n",
       "      <td>0.122</td>\n",
       "    </tr>\n",
       "    <tr>\n",
       "      <th>1</th>\n",
       "      <td>NaN</td>\n",
       "      <td>0.1370</td>\n",
       "      <td>https://api.spotify.com/v1/audio-analysis/3Uny...</td>\n",
       "      <td>0.419</td>\n",
       "      <td>197707.0</td>\n",
       "      <td>0.565</td>\n",
       "      <td>3UnyplmZaq547hwsfOR5yy</td>\n",
       "      <td>0.33700</td>\n",
       "      <td>5.0</td>\n",
       "      <td>0.1280</td>\n",
       "      <td>-11.565</td>\n",
       "      <td>1.0</td>\n",
       "      <td>0.0347</td>\n",
       "      <td>151.277</td>\n",
       "      <td>4.0</td>\n",
       "      <td>https://api.spotify.com/v1/tracks/3UnyplmZaq54...</td>\n",
       "      <td>audio_features</td>\n",
       "      <td>spotify:track:3UnyplmZaq547hwsfOR5yy</td>\n",
       "      <td>0.648</td>\n",
       "    </tr>\n",
       "    <tr>\n",
       "      <th>2</th>\n",
       "      <td>NaN</td>\n",
       "      <td>0.5900</td>\n",
       "      <td>https://api.spotify.com/v1/audio-analysis/1w8Q...</td>\n",
       "      <td>0.354</td>\n",
       "      <td>244285.0</td>\n",
       "      <td>0.302</td>\n",
       "      <td>1w8QCSDH4QobcQeT4uMKLm</td>\n",
       "      <td>0.07090</td>\n",
       "      <td>9.0</td>\n",
       "      <td>0.1110</td>\n",
       "      <td>-13.078</td>\n",
       "      <td>1.0</td>\n",
       "      <td>0.0326</td>\n",
       "      <td>123.753</td>\n",
       "      <td>4.0</td>\n",
       "      <td>https://api.spotify.com/v1/tracks/1w8QCSDH4Qob...</td>\n",
       "      <td>audio_features</td>\n",
       "      <td>spotify:track:1w8QCSDH4QobcQeT4uMKLm</td>\n",
       "      <td>0.223</td>\n",
       "    </tr>\n",
       "    <tr>\n",
       "      <th>3</th>\n",
       "      <td>NaN</td>\n",
       "      <td>0.3250</td>\n",
       "      <td>https://api.spotify.com/v1/audio-analysis/7J9m...</td>\n",
       "      <td>0.727</td>\n",
       "      <td>249940.0</td>\n",
       "      <td>0.785</td>\n",
       "      <td>7J9mBHG4J2eIfDAv5BehKA</td>\n",
       "      <td>0.12600</td>\n",
       "      <td>5.0</td>\n",
       "      <td>0.3100</td>\n",
       "      <td>-6.707</td>\n",
       "      <td>0.0</td>\n",
       "      <td>0.0603</td>\n",
       "      <td>129.649</td>\n",
       "      <td>4.0</td>\n",
       "      <td>https://api.spotify.com/v1/tracks/7J9mBHG4J2eI...</td>\n",
       "      <td>audio_features</td>\n",
       "      <td>spotify:track:7J9mBHG4J2eIfDAv5BehKA</td>\n",
       "      <td>0.960</td>\n",
       "    </tr>\n",
       "    <tr>\n",
       "      <th>4</th>\n",
       "      <td>NaN</td>\n",
       "      <td>0.0231</td>\n",
       "      <td>https://api.spotify.com/v1/audio-analysis/1VZe...</td>\n",
       "      <td>0.571</td>\n",
       "      <td>278320.0</td>\n",
       "      <td>0.724</td>\n",
       "      <td>1VZedwJj1gyi88WFRhfThb</td>\n",
       "      <td>0.00311</td>\n",
       "      <td>0.0</td>\n",
       "      <td>0.0919</td>\n",
       "      <td>-5.967</td>\n",
       "      <td>1.0</td>\n",
       "      <td>0.0260</td>\n",
       "      <td>116.755</td>\n",
       "      <td>4.0</td>\n",
       "      <td>https://api.spotify.com/v1/tracks/1VZedwJj1gyi...</td>\n",
       "      <td>audio_features</td>\n",
       "      <td>spotify:track:1VZedwJj1gyi88WFRhfThb</td>\n",
       "      <td>0.385</td>\n",
       "    </tr>\n",
       "  </tbody>\n",
       "</table>\n",
       "</div>"
      ],
      "text/plain": [
       "    0  acousticness                                       analysis_url  \\\n",
       "0 NaN        0.0940  https://api.spotify.com/v1/audio-analysis/33xM...   \n",
       "1 NaN        0.1370  https://api.spotify.com/v1/audio-analysis/3Uny...   \n",
       "2 NaN        0.5900  https://api.spotify.com/v1/audio-analysis/1w8Q...   \n",
       "3 NaN        0.3250  https://api.spotify.com/v1/audio-analysis/7J9m...   \n",
       "4 NaN        0.0231  https://api.spotify.com/v1/audio-analysis/1VZe...   \n",
       "\n",
       "   danceability  duration_ms  energy                      id  \\\n",
       "0         0.310     152560.0   0.445  33xMbeHzmWd6Od0BmLZEUs   \n",
       "1         0.419     197707.0   0.565  3UnyplmZaq547hwsfOR5yy   \n",
       "2         0.354     244285.0   0.302  1w8QCSDH4QobcQeT4uMKLm   \n",
       "3         0.727     249940.0   0.785  7J9mBHG4J2eIfDAv5BehKA   \n",
       "4         0.571     278320.0   0.724  1VZedwJj1gyi88WFRhfThb   \n",
       "\n",
       "   instrumentalness  key  liveness  loudness  mode  speechiness    tempo  \\\n",
       "0           0.06780  7.0    0.1130   -13.355   0.0       0.0863   95.360   \n",
       "1           0.33700  5.0    0.1280   -11.565   1.0       0.0347  151.277   \n",
       "2           0.07090  9.0    0.1110   -13.078   1.0       0.0326  123.753   \n",
       "3           0.12600  5.0    0.3100    -6.707   0.0       0.0603  129.649   \n",
       "4           0.00311  0.0    0.0919    -5.967   1.0       0.0260  116.755   \n",
       "\n",
       "   time_signature                                         track_href  \\\n",
       "0             3.0  https://api.spotify.com/v1/tracks/33xMbeHzmWd6...   \n",
       "1             4.0  https://api.spotify.com/v1/tracks/3UnyplmZaq54...   \n",
       "2             4.0  https://api.spotify.com/v1/tracks/1w8QCSDH4Qob...   \n",
       "3             4.0  https://api.spotify.com/v1/tracks/7J9mBHG4J2eI...   \n",
       "4             4.0  https://api.spotify.com/v1/tracks/1VZedwJj1gyi...   \n",
       "\n",
       "             type                                   uri  valence  \n",
       "0  audio_features  spotify:track:33xMbeHzmWd6Od0BmLZEUs    0.122  \n",
       "1  audio_features  spotify:track:3UnyplmZaq547hwsfOR5yy    0.648  \n",
       "2  audio_features  spotify:track:1w8QCSDH4QobcQeT4uMKLm    0.223  \n",
       "3  audio_features  spotify:track:7J9mBHG4J2eIfDAv5BehKA    0.960  \n",
       "4  audio_features  spotify:track:1VZedwJj1gyi88WFRhfThb    0.385  "
      ]
     },
     "execution_count": 32,
     "metadata": {},
     "output_type": "execute_result"
    }
   ],
   "source": [
    "features_db.head()"
   ]
  },
  {
   "cell_type": "code",
   "execution_count": 33,
   "metadata": {},
   "outputs": [],
   "source": [
    "#duplicating the db so we can remove the columns that contain strings\n",
    "cluster = features_db.copy(deep=True)"
   ]
  },
  {
   "cell_type": "code",
   "execution_count": 34,
   "metadata": {},
   "outputs": [],
   "source": [
    "cluster.drop(\"0\", axis = 1, inplace=True)"
   ]
  },
  {
   "cell_type": "code",
   "execution_count": 35,
   "metadata": {},
   "outputs": [],
   "source": [
    "cluster.drop([\"analysis_url\", \"id\", \"track_href\", \"type\", \"uri\"], axis=1, inplace=True)"
   ]
  },
  {
   "cell_type": "code",
   "execution_count": 36,
   "metadata": {},
   "outputs": [
    {
     "data": {
      "text/html": [
       "<div>\n",
       "<style scoped>\n",
       "    .dataframe tbody tr th:only-of-type {\n",
       "        vertical-align: middle;\n",
       "    }\n",
       "\n",
       "    .dataframe tbody tr th {\n",
       "        vertical-align: top;\n",
       "    }\n",
       "\n",
       "    .dataframe thead th {\n",
       "        text-align: right;\n",
       "    }\n",
       "</style>\n",
       "<table border=\"1\" class=\"dataframe\">\n",
       "  <thead>\n",
       "    <tr style=\"text-align: right;\">\n",
       "      <th></th>\n",
       "      <th>acousticness</th>\n",
       "      <th>danceability</th>\n",
       "      <th>duration_ms</th>\n",
       "      <th>energy</th>\n",
       "      <th>instrumentalness</th>\n",
       "      <th>key</th>\n",
       "      <th>liveness</th>\n",
       "      <th>loudness</th>\n",
       "      <th>mode</th>\n",
       "      <th>speechiness</th>\n",
       "      <th>tempo</th>\n",
       "      <th>time_signature</th>\n",
       "      <th>valence</th>\n",
       "    </tr>\n",
       "  </thead>\n",
       "  <tbody>\n",
       "    <tr>\n",
       "      <th>0</th>\n",
       "      <td>0.09400</td>\n",
       "      <td>0.310</td>\n",
       "      <td>152560.0</td>\n",
       "      <td>0.445</td>\n",
       "      <td>0.067800</td>\n",
       "      <td>7.0</td>\n",
       "      <td>0.1130</td>\n",
       "      <td>-13.355</td>\n",
       "      <td>0.0</td>\n",
       "      <td>0.0863</td>\n",
       "      <td>95.360</td>\n",
       "      <td>3.0</td>\n",
       "      <td>0.122</td>\n",
       "    </tr>\n",
       "    <tr>\n",
       "      <th>1</th>\n",
       "      <td>0.13700</td>\n",
       "      <td>0.419</td>\n",
       "      <td>197707.0</td>\n",
       "      <td>0.565</td>\n",
       "      <td>0.337000</td>\n",
       "      <td>5.0</td>\n",
       "      <td>0.1280</td>\n",
       "      <td>-11.565</td>\n",
       "      <td>1.0</td>\n",
       "      <td>0.0347</td>\n",
       "      <td>151.277</td>\n",
       "      <td>4.0</td>\n",
       "      <td>0.648</td>\n",
       "    </tr>\n",
       "    <tr>\n",
       "      <th>2</th>\n",
       "      <td>0.59000</td>\n",
       "      <td>0.354</td>\n",
       "      <td>244285.0</td>\n",
       "      <td>0.302</td>\n",
       "      <td>0.070900</td>\n",
       "      <td>9.0</td>\n",
       "      <td>0.1110</td>\n",
       "      <td>-13.078</td>\n",
       "      <td>1.0</td>\n",
       "      <td>0.0326</td>\n",
       "      <td>123.753</td>\n",
       "      <td>4.0</td>\n",
       "      <td>0.223</td>\n",
       "    </tr>\n",
       "    <tr>\n",
       "      <th>3</th>\n",
       "      <td>0.32500</td>\n",
       "      <td>0.727</td>\n",
       "      <td>249940.0</td>\n",
       "      <td>0.785</td>\n",
       "      <td>0.126000</td>\n",
       "      <td>5.0</td>\n",
       "      <td>0.3100</td>\n",
       "      <td>-6.707</td>\n",
       "      <td>0.0</td>\n",
       "      <td>0.0603</td>\n",
       "      <td>129.649</td>\n",
       "      <td>4.0</td>\n",
       "      <td>0.960</td>\n",
       "    </tr>\n",
       "    <tr>\n",
       "      <th>4</th>\n",
       "      <td>0.02310</td>\n",
       "      <td>0.571</td>\n",
       "      <td>278320.0</td>\n",
       "      <td>0.724</td>\n",
       "      <td>0.003110</td>\n",
       "      <td>0.0</td>\n",
       "      <td>0.0919</td>\n",
       "      <td>-5.967</td>\n",
       "      <td>1.0</td>\n",
       "      <td>0.0260</td>\n",
       "      <td>116.755</td>\n",
       "      <td>4.0</td>\n",
       "      <td>0.385</td>\n",
       "    </tr>\n",
       "    <tr>\n",
       "      <th>...</th>\n",
       "      <td>...</td>\n",
       "      <td>...</td>\n",
       "      <td>...</td>\n",
       "      <td>...</td>\n",
       "      <td>...</td>\n",
       "      <td>...</td>\n",
       "      <td>...</td>\n",
       "      <td>...</td>\n",
       "      <td>...</td>\n",
       "      <td>...</td>\n",
       "      <td>...</td>\n",
       "      <td>...</td>\n",
       "      <td>...</td>\n",
       "    </tr>\n",
       "    <tr>\n",
       "      <th>9914</th>\n",
       "      <td>0.12300</td>\n",
       "      <td>0.651</td>\n",
       "      <td>200480.0</td>\n",
       "      <td>0.801</td>\n",
       "      <td>0.000000</td>\n",
       "      <td>0.0</td>\n",
       "      <td>0.0825</td>\n",
       "      <td>-7.340</td>\n",
       "      <td>1.0</td>\n",
       "      <td>0.0513</td>\n",
       "      <td>133.763</td>\n",
       "      <td>4.0</td>\n",
       "      <td>0.776</td>\n",
       "    </tr>\n",
       "    <tr>\n",
       "      <th>9915</th>\n",
       "      <td>0.08230</td>\n",
       "      <td>0.811</td>\n",
       "      <td>191560.0</td>\n",
       "      <td>0.647</td>\n",
       "      <td>0.681000</td>\n",
       "      <td>0.0</td>\n",
       "      <td>0.0572</td>\n",
       "      <td>-10.989</td>\n",
       "      <td>1.0</td>\n",
       "      <td>0.0498</td>\n",
       "      <td>139.787</td>\n",
       "      <td>4.0</td>\n",
       "      <td>0.990</td>\n",
       "    </tr>\n",
       "    <tr>\n",
       "      <th>9916</th>\n",
       "      <td>0.19000</td>\n",
       "      <td>0.686</td>\n",
       "      <td>206293.0</td>\n",
       "      <td>0.610</td>\n",
       "      <td>0.000931</td>\n",
       "      <td>7.0</td>\n",
       "      <td>0.0710</td>\n",
       "      <td>-5.902</td>\n",
       "      <td>1.0</td>\n",
       "      <td>0.0262</td>\n",
       "      <td>80.567</td>\n",
       "      <td>4.0</td>\n",
       "      <td>0.766</td>\n",
       "    </tr>\n",
       "    <tr>\n",
       "      <th>9917</th>\n",
       "      <td>0.00824</td>\n",
       "      <td>0.711</td>\n",
       "      <td>200293.0</td>\n",
       "      <td>0.718</td>\n",
       "      <td>0.002080</td>\n",
       "      <td>6.0</td>\n",
       "      <td>0.0732</td>\n",
       "      <td>-5.739</td>\n",
       "      <td>1.0</td>\n",
       "      <td>0.0380</td>\n",
       "      <td>117.071</td>\n",
       "      <td>4.0</td>\n",
       "      <td>0.688</td>\n",
       "    </tr>\n",
       "    <tr>\n",
       "      <th>9918</th>\n",
       "      <td>0.00767</td>\n",
       "      <td>0.323</td>\n",
       "      <td>409013.0</td>\n",
       "      <td>0.997</td>\n",
       "      <td>0.110000</td>\n",
       "      <td>1.0</td>\n",
       "      <td>0.9480</td>\n",
       "      <td>-3.440</td>\n",
       "      <td>1.0</td>\n",
       "      <td>0.2640</td>\n",
       "      <td>199.962</td>\n",
       "      <td>4.0</td>\n",
       "      <td>0.315</td>\n",
       "    </tr>\n",
       "  </tbody>\n",
       "</table>\n",
       "<p>9919 rows × 13 columns</p>\n",
       "</div>"
      ],
      "text/plain": [
       "      acousticness  danceability  duration_ms  energy  instrumentalness  key  \\\n",
       "0          0.09400         0.310     152560.0   0.445          0.067800  7.0   \n",
       "1          0.13700         0.419     197707.0   0.565          0.337000  5.0   \n",
       "2          0.59000         0.354     244285.0   0.302          0.070900  9.0   \n",
       "3          0.32500         0.727     249940.0   0.785          0.126000  5.0   \n",
       "4          0.02310         0.571     278320.0   0.724          0.003110  0.0   \n",
       "...            ...           ...          ...     ...               ...  ...   \n",
       "9914       0.12300         0.651     200480.0   0.801          0.000000  0.0   \n",
       "9915       0.08230         0.811     191560.0   0.647          0.681000  0.0   \n",
       "9916       0.19000         0.686     206293.0   0.610          0.000931  7.0   \n",
       "9917       0.00824         0.711     200293.0   0.718          0.002080  6.0   \n",
       "9918       0.00767         0.323     409013.0   0.997          0.110000  1.0   \n",
       "\n",
       "      liveness  loudness  mode  speechiness    tempo  time_signature  valence  \n",
       "0       0.1130   -13.355   0.0       0.0863   95.360             3.0    0.122  \n",
       "1       0.1280   -11.565   1.0       0.0347  151.277             4.0    0.648  \n",
       "2       0.1110   -13.078   1.0       0.0326  123.753             4.0    0.223  \n",
       "3       0.3100    -6.707   0.0       0.0603  129.649             4.0    0.960  \n",
       "4       0.0919    -5.967   1.0       0.0260  116.755             4.0    0.385  \n",
       "...        ...       ...   ...          ...      ...             ...      ...  \n",
       "9914    0.0825    -7.340   1.0       0.0513  133.763             4.0    0.776  \n",
       "9915    0.0572   -10.989   1.0       0.0498  139.787             4.0    0.990  \n",
       "9916    0.0710    -5.902   1.0       0.0262   80.567             4.0    0.766  \n",
       "9917    0.0732    -5.739   1.0       0.0380  117.071             4.0    0.688  \n",
       "9918    0.9480    -3.440   1.0       0.2640  199.962             4.0    0.315  \n",
       "\n",
       "[9919 rows x 13 columns]"
      ]
     },
     "execution_count": 36,
     "metadata": {},
     "output_type": "execute_result"
    }
   ],
   "source": [
    "cluster"
   ]
  },
  {
   "cell_type": "code",
   "execution_count": 37,
   "metadata": {},
   "outputs": [],
   "source": [
    "cluster_clean = cluster.dropna()"
   ]
  },
  {
   "cell_type": "code",
   "execution_count": null,
   "metadata": {},
   "outputs": [],
   "source": []
  },
  {
   "cell_type": "code",
   "execution_count": null,
   "metadata": {},
   "outputs": [],
   "source": []
  },
  {
   "cell_type": "code",
   "execution_count": null,
   "metadata": {},
   "outputs": [],
   "source": []
  },
  {
   "cell_type": "code",
   "execution_count": null,
   "metadata": {},
   "outputs": [],
   "source": []
  },
  {
   "cell_type": "code",
   "execution_count": 38,
   "metadata": {},
   "outputs": [],
   "source": [
    "from sklearn.preprocessing import StandardScaler"
   ]
  },
  {
   "cell_type": "code",
   "execution_count": 39,
   "metadata": {},
   "outputs": [],
   "source": [
    "scaler = StandardScaler()"
   ]
  },
  {
   "cell_type": "code",
   "execution_count": 40,
   "metadata": {},
   "outputs": [],
   "source": [
    "X_scaled = scaler.fit_transform(cluster_clean)"
   ]
  },
  {
   "cell_type": "code",
   "execution_count": 41,
   "metadata": {},
   "outputs": [
    {
     "data": {
      "text/html": [
       "<div>\n",
       "<style scoped>\n",
       "    .dataframe tbody tr th:only-of-type {\n",
       "        vertical-align: middle;\n",
       "    }\n",
       "\n",
       "    .dataframe tbody tr th {\n",
       "        vertical-align: top;\n",
       "    }\n",
       "\n",
       "    .dataframe thead th {\n",
       "        text-align: right;\n",
       "    }\n",
       "</style>\n",
       "<table border=\"1\" class=\"dataframe\">\n",
       "  <thead>\n",
       "    <tr style=\"text-align: right;\">\n",
       "      <th></th>\n",
       "      <th>0</th>\n",
       "      <th>1</th>\n",
       "      <th>2</th>\n",
       "      <th>3</th>\n",
       "      <th>4</th>\n",
       "      <th>5</th>\n",
       "      <th>6</th>\n",
       "      <th>7</th>\n",
       "      <th>8</th>\n",
       "      <th>9</th>\n",
       "      <th>10</th>\n",
       "      <th>11</th>\n",
       "      <th>12</th>\n",
       "    </tr>\n",
       "  </thead>\n",
       "  <tbody>\n",
       "    <tr>\n",
       "      <th>0</th>\n",
       "      <td>-0.625310</td>\n",
       "      <td>-1.622598</td>\n",
       "      <td>-0.924114</td>\n",
       "      <td>-0.738680</td>\n",
       "      <td>-0.193351</td>\n",
       "      <td>0.501942</td>\n",
       "      <td>-0.482243</td>\n",
       "      <td>-1.206798</td>\n",
       "      <td>-1.359244</td>\n",
       "      <td>0.162264</td>\n",
       "      <td>-0.871220</td>\n",
       "      <td>-2.345503</td>\n",
       "      <td>-1.466150</td>\n",
       "    </tr>\n",
       "    <tr>\n",
       "      <th>1</th>\n",
       "      <td>-0.489232</td>\n",
       "      <td>-0.936292</td>\n",
       "      <td>-0.400098</td>\n",
       "      <td>-0.226574</td>\n",
       "      <td>0.836020</td>\n",
       "      <td>-0.054942</td>\n",
       "      <td>-0.390614</td>\n",
       "      <td>-0.790320</td>\n",
       "      <td>0.735703</td>\n",
       "      <td>-0.464074</td>\n",
       "      <td>1.076002</td>\n",
       "      <td>0.211118</td>\n",
       "      <td>0.656185</td>\n",
       "    </tr>\n",
       "    <tr>\n",
       "      <th>2</th>\n",
       "      <td>0.944334</td>\n",
       "      <td>-1.345557</td>\n",
       "      <td>0.140527</td>\n",
       "      <td>-1.348940</td>\n",
       "      <td>-0.181497</td>\n",
       "      <td>1.058826</td>\n",
       "      <td>-0.494460</td>\n",
       "      <td>-1.142349</td>\n",
       "      <td>0.735703</td>\n",
       "      <td>-0.489565</td>\n",
       "      <td>0.117522</td>\n",
       "      <td>0.211118</td>\n",
       "      <td>-1.058630</td>\n",
       "    </tr>\n",
       "    <tr>\n",
       "      <th>3</th>\n",
       "      <td>0.105714</td>\n",
       "      <td>1.002994</td>\n",
       "      <td>0.206164</td>\n",
       "      <td>0.712287</td>\n",
       "      <td>0.029195</td>\n",
       "      <td>-0.054942</td>\n",
       "      <td>0.721144</td>\n",
       "      <td>0.339985</td>\n",
       "      <td>-1.359244</td>\n",
       "      <td>-0.153333</td>\n",
       "      <td>0.322841</td>\n",
       "      <td>0.211118</td>\n",
       "      <td>1.915060</td>\n",
       "    </tr>\n",
       "    <tr>\n",
       "      <th>4</th>\n",
       "      <td>-0.849680</td>\n",
       "      <td>0.020758</td>\n",
       "      <td>0.535568</td>\n",
       "      <td>0.451966</td>\n",
       "      <td>-0.440714</td>\n",
       "      <td>-1.447151</td>\n",
       "      <td>-0.611133</td>\n",
       "      <td>0.512160</td>\n",
       "      <td>0.735703</td>\n",
       "      <td>-0.569678</td>\n",
       "      <td>-0.126173</td>\n",
       "      <td>0.211118</td>\n",
       "      <td>-0.404983</td>\n",
       "    </tr>\n",
       "    <tr>\n",
       "      <th>...</th>\n",
       "      <td>...</td>\n",
       "      <td>...</td>\n",
       "      <td>...</td>\n",
       "      <td>...</td>\n",
       "      <td>...</td>\n",
       "      <td>...</td>\n",
       "      <td>...</td>\n",
       "      <td>...</td>\n",
       "      <td>...</td>\n",
       "      <td>...</td>\n",
       "      <td>...</td>\n",
       "      <td>...</td>\n",
       "      <td>...</td>\n",
       "    </tr>\n",
       "    <tr>\n",
       "      <th>9913</th>\n",
       "      <td>-0.533536</td>\n",
       "      <td>0.524469</td>\n",
       "      <td>-0.367912</td>\n",
       "      <td>0.780567</td>\n",
       "      <td>-0.452606</td>\n",
       "      <td>-1.447151</td>\n",
       "      <td>-0.668554</td>\n",
       "      <td>0.192706</td>\n",
       "      <td>0.735703</td>\n",
       "      <td>-0.262578</td>\n",
       "      <td>0.466104</td>\n",
       "      <td>0.211118</td>\n",
       "      <td>1.172647</td>\n",
       "    </tr>\n",
       "    <tr>\n",
       "      <th>9914</th>\n",
       "      <td>-0.662335</td>\n",
       "      <td>1.531891</td>\n",
       "      <td>-0.471446</td>\n",
       "      <td>0.123365</td>\n",
       "      <td>2.151412</td>\n",
       "      <td>-1.447151</td>\n",
       "      <td>-0.823100</td>\n",
       "      <td>-0.656303</td>\n",
       "      <td>0.735703</td>\n",
       "      <td>-0.280786</td>\n",
       "      <td>0.675881</td>\n",
       "      <td>0.211118</td>\n",
       "      <td>2.036106</td>\n",
       "    </tr>\n",
       "    <tr>\n",
       "      <th>9915</th>\n",
       "      <td>-0.321508</td>\n",
       "      <td>0.744843</td>\n",
       "      <td>-0.300442</td>\n",
       "      <td>-0.034535</td>\n",
       "      <td>-0.449046</td>\n",
       "      <td>0.501942</td>\n",
       "      <td>-0.738802</td>\n",
       "      <td>0.527284</td>\n",
       "      <td>0.735703</td>\n",
       "      <td>-0.567250</td>\n",
       "      <td>-1.386364</td>\n",
       "      <td>0.211118</td>\n",
       "      <td>1.132298</td>\n",
       "    </tr>\n",
       "    <tr>\n",
       "      <th>9916</th>\n",
       "      <td>-0.896706</td>\n",
       "      <td>0.902252</td>\n",
       "      <td>-0.370083</td>\n",
       "      <td>0.426361</td>\n",
       "      <td>-0.444652</td>\n",
       "      <td>0.223500</td>\n",
       "      <td>-0.725363</td>\n",
       "      <td>0.565209</td>\n",
       "      <td>0.735703</td>\n",
       "      <td>-0.424018</td>\n",
       "      <td>-0.115169</td>\n",
       "      <td>0.211118</td>\n",
       "      <td>0.817579</td>\n",
       "    </tr>\n",
       "    <tr>\n",
       "      <th>9917</th>\n",
       "      <td>-0.898510</td>\n",
       "      <td>-1.540745</td>\n",
       "      <td>2.052507</td>\n",
       "      <td>1.617007</td>\n",
       "      <td>-0.031986</td>\n",
       "      <td>-1.168709</td>\n",
       "      <td>4.618407</td>\n",
       "      <td>1.100115</td>\n",
       "      <td>0.735703</td>\n",
       "      <td>2.319247</td>\n",
       "      <td>2.771382</td>\n",
       "      <td>0.211118</td>\n",
       "      <td>-0.687423</td>\n",
       "    </tr>\n",
       "  </tbody>\n",
       "</table>\n",
       "<p>9918 rows × 13 columns</p>\n",
       "</div>"
      ],
      "text/plain": [
       "            0         1         2         3         4         5         6   \\\n",
       "0    -0.625310 -1.622598 -0.924114 -0.738680 -0.193351  0.501942 -0.482243   \n",
       "1    -0.489232 -0.936292 -0.400098 -0.226574  0.836020 -0.054942 -0.390614   \n",
       "2     0.944334 -1.345557  0.140527 -1.348940 -0.181497  1.058826 -0.494460   \n",
       "3     0.105714  1.002994  0.206164  0.712287  0.029195 -0.054942  0.721144   \n",
       "4    -0.849680  0.020758  0.535568  0.451966 -0.440714 -1.447151 -0.611133   \n",
       "...        ...       ...       ...       ...       ...       ...       ...   \n",
       "9913 -0.533536  0.524469 -0.367912  0.780567 -0.452606 -1.447151 -0.668554   \n",
       "9914 -0.662335  1.531891 -0.471446  0.123365  2.151412 -1.447151 -0.823100   \n",
       "9915 -0.321508  0.744843 -0.300442 -0.034535 -0.449046  0.501942 -0.738802   \n",
       "9916 -0.896706  0.902252 -0.370083  0.426361 -0.444652  0.223500 -0.725363   \n",
       "9917 -0.898510 -1.540745  2.052507  1.617007 -0.031986 -1.168709  4.618407   \n",
       "\n",
       "            7         8         9         10        11        12  \n",
       "0    -1.206798 -1.359244  0.162264 -0.871220 -2.345503 -1.466150  \n",
       "1    -0.790320  0.735703 -0.464074  1.076002  0.211118  0.656185  \n",
       "2    -1.142349  0.735703 -0.489565  0.117522  0.211118 -1.058630  \n",
       "3     0.339985 -1.359244 -0.153333  0.322841  0.211118  1.915060  \n",
       "4     0.512160  0.735703 -0.569678 -0.126173  0.211118 -0.404983  \n",
       "...        ...       ...       ...       ...       ...       ...  \n",
       "9913  0.192706  0.735703 -0.262578  0.466104  0.211118  1.172647  \n",
       "9914 -0.656303  0.735703 -0.280786  0.675881  0.211118  2.036106  \n",
       "9915  0.527284  0.735703 -0.567250 -1.386364  0.211118  1.132298  \n",
       "9916  0.565209  0.735703 -0.424018 -0.115169  0.211118  0.817579  \n",
       "9917  1.100115  0.735703  2.319247  2.771382  0.211118 -0.687423  \n",
       "\n",
       "[9918 rows x 13 columns]"
      ]
     },
     "execution_count": 41,
     "metadata": {},
     "output_type": "execute_result"
    }
   ],
   "source": [
    "pd.DataFrame(X_scaled)"
   ]
  },
  {
   "cell_type": "markdown",
   "metadata": {},
   "source": [
    "#### Finding the optimal number of clusters"
   ]
  },
  {
   "cell_type": "code",
   "execution_count": 42,
   "metadata": {},
   "outputs": [],
   "source": [
    "from sklearn.cluster import KMeans"
   ]
  },
  {
   "cell_type": "code",
   "execution_count": 43,
   "metadata": {},
   "outputs": [],
   "source": [
    "#K = range(2, 10)"
   ]
  },
  {
   "cell_type": "code",
   "execution_count": 44,
   "metadata": {},
   "outputs": [],
   "source": [
    "#inertia = []"
   ]
  },
  {
   "cell_type": "code",
   "execution_count": 45,
   "metadata": {},
   "outputs": [],
   "source": [
    "#for i in K:\n",
    "#        kmeans = KMeans(n_clusters=i,\n",
    "#                init=\"random\",\n",
    "#                n_init=100,  # try with 1, 4, 8, 20, 30, 100...\n",
    "#                max_iter=300,\n",
    "#                tol=0,\n",
    "#                algorithm=\"elkan\",\n",
    "#                random_state=1234)\n",
    "#        kmeans.fit(X_scaled) \n",
    "#        inertia.append(kmeans.inertia_)"
   ]
  },
  {
   "cell_type": "code",
   "execution_count": 46,
   "metadata": {},
   "outputs": [],
   "source": [
    "#inertia"
   ]
  },
  {
   "cell_type": "code",
   "execution_count": 47,
   "metadata": {},
   "outputs": [],
   "source": [
    "#import matplotlib.pyplot as plt\n",
    "#import numpy as np\n",
    "#%matplotlib inline\n",
    "\n",
    "#plt.figure(figsize=(16,8))\n",
    "#plt.plot(K, inertia, 'bx-')\n",
    "#plt.xlabel('k')\n",
    "#plt.ylabel('inertia')\n",
    "#plt.xticks(np.arange(min(K), max(K)+1, 1.0))\n",
    "#plt.title('Elbow Method showing the optimal k')"
   ]
  },
  {
   "cell_type": "code",
   "execution_count": 48,
   "metadata": {},
   "outputs": [],
   "source": [
    "#from sklearn.metrics import silhouette_score"
   ]
  },
  {
   "cell_type": "code",
   "execution_count": 49,
   "metadata": {},
   "outputs": [],
   "source": [
    "#K = range(2, 20)\n",
    "#silhouette = []"
   ]
  },
  {
   "cell_type": "code",
   "execution_count": 50,
   "metadata": {},
   "outputs": [],
   "source": [
    "#for i in K:\n",
    "#    kmeans = KMeans(n_clusters=i, random_state=1234)\n",
    "        \n",
    "#    prediction = kmeans.fit_predict(X_scaled)    \n",
    "#    score=silhouette_score(X_scaled, prediction)\n",
    "#    silhouette.append(score)"
   ]
  },
  {
   "cell_type": "code",
   "execution_count": 51,
   "metadata": {},
   "outputs": [],
   "source": [
    "#plt.figure(figsize=(16,8))\n",
    "#plt.plot(K, silhouette, 'bx-')\n",
    "#plt.xlabel('k')\n",
    "#plt.ylabel('silhouette score')\n",
    "#plt.xticks(np.arange(min(K), max(K)+1, 1.0))\n",
    "#plt.title('Elbow Method showing the optimal k')"
   ]
  },
  {
   "cell_type": "code",
   "execution_count": 52,
   "metadata": {},
   "outputs": [],
   "source": [
    "kmeans = KMeans(n_clusters=10)"
   ]
  },
  {
   "cell_type": "code",
   "execution_count": 53,
   "metadata": {},
   "outputs": [
    {
     "data": {
      "text/plain": [
       "KMeans(n_clusters=10)"
      ]
     },
     "execution_count": 53,
     "metadata": {},
     "output_type": "execute_result"
    }
   ],
   "source": [
    "kmeans.fit(X_scaled)"
   ]
  },
  {
   "cell_type": "code",
   "execution_count": 54,
   "metadata": {},
   "outputs": [],
   "source": [
    "final_clusters = kmeans.predict(X_scaled)"
   ]
  },
  {
   "cell_type": "code",
   "execution_count": 55,
   "metadata": {},
   "outputs": [
    {
     "data": {
      "text/plain": [
       "array([2, 6, 2, ..., 5, 5, 3], dtype=int32)"
      ]
     },
     "execution_count": 55,
     "metadata": {},
     "output_type": "execute_result"
    }
   ],
   "source": [
    "final_clusters"
   ]
  },
  {
   "cell_type": "code",
   "execution_count": 56,
   "metadata": {},
   "outputs": [],
   "source": [
    "clusters = pd.DataFrame(final_clusters)"
   ]
  },
  {
   "cell_type": "code",
   "execution_count": 57,
   "metadata": {},
   "outputs": [],
   "source": [
    "features_db[\"cluster\"] = clusters"
   ]
  },
  {
   "cell_type": "code",
   "execution_count": 58,
   "metadata": {},
   "outputs": [],
   "source": [
    "features_db.drop(\"0\", axis = 1, inplace=True)"
   ]
  },
  {
   "cell_type": "code",
   "execution_count": 59,
   "metadata": {},
   "outputs": [
    {
     "data": {
      "text/html": [
       "<div>\n",
       "<style scoped>\n",
       "    .dataframe tbody tr th:only-of-type {\n",
       "        vertical-align: middle;\n",
       "    }\n",
       "\n",
       "    .dataframe tbody tr th {\n",
       "        vertical-align: top;\n",
       "    }\n",
       "\n",
       "    .dataframe thead th {\n",
       "        text-align: right;\n",
       "    }\n",
       "</style>\n",
       "<table border=\"1\" class=\"dataframe\">\n",
       "  <thead>\n",
       "    <tr style=\"text-align: right;\">\n",
       "      <th></th>\n",
       "      <th>acousticness</th>\n",
       "      <th>analysis_url</th>\n",
       "      <th>danceability</th>\n",
       "      <th>duration_ms</th>\n",
       "      <th>energy</th>\n",
       "      <th>id</th>\n",
       "      <th>instrumentalness</th>\n",
       "      <th>key</th>\n",
       "      <th>liveness</th>\n",
       "      <th>loudness</th>\n",
       "      <th>mode</th>\n",
       "      <th>speechiness</th>\n",
       "      <th>tempo</th>\n",
       "      <th>time_signature</th>\n",
       "      <th>track_href</th>\n",
       "      <th>type</th>\n",
       "      <th>uri</th>\n",
       "      <th>valence</th>\n",
       "      <th>cluster</th>\n",
       "    </tr>\n",
       "  </thead>\n",
       "  <tbody>\n",
       "    <tr>\n",
       "      <th>0</th>\n",
       "      <td>0.09400</td>\n",
       "      <td>https://api.spotify.com/v1/audio-analysis/33xM...</td>\n",
       "      <td>0.310</td>\n",
       "      <td>152560.0</td>\n",
       "      <td>0.445</td>\n",
       "      <td>33xMbeHzmWd6Od0BmLZEUs</td>\n",
       "      <td>0.067800</td>\n",
       "      <td>7.0</td>\n",
       "      <td>0.1130</td>\n",
       "      <td>-13.355</td>\n",
       "      <td>0.0</td>\n",
       "      <td>0.0863</td>\n",
       "      <td>95.360</td>\n",
       "      <td>3.0</td>\n",
       "      <td>https://api.spotify.com/v1/tracks/33xMbeHzmWd6...</td>\n",
       "      <td>audio_features</td>\n",
       "      <td>spotify:track:33xMbeHzmWd6Od0BmLZEUs</td>\n",
       "      <td>0.122</td>\n",
       "      <td>2.0</td>\n",
       "    </tr>\n",
       "    <tr>\n",
       "      <th>1</th>\n",
       "      <td>0.13700</td>\n",
       "      <td>https://api.spotify.com/v1/audio-analysis/3Uny...</td>\n",
       "      <td>0.419</td>\n",
       "      <td>197707.0</td>\n",
       "      <td>0.565</td>\n",
       "      <td>3UnyplmZaq547hwsfOR5yy</td>\n",
       "      <td>0.337000</td>\n",
       "      <td>5.0</td>\n",
       "      <td>0.1280</td>\n",
       "      <td>-11.565</td>\n",
       "      <td>1.0</td>\n",
       "      <td>0.0347</td>\n",
       "      <td>151.277</td>\n",
       "      <td>4.0</td>\n",
       "      <td>https://api.spotify.com/v1/tracks/3UnyplmZaq54...</td>\n",
       "      <td>audio_features</td>\n",
       "      <td>spotify:track:3UnyplmZaq547hwsfOR5yy</td>\n",
       "      <td>0.648</td>\n",
       "      <td>6.0</td>\n",
       "    </tr>\n",
       "    <tr>\n",
       "      <th>2</th>\n",
       "      <td>0.59000</td>\n",
       "      <td>https://api.spotify.com/v1/audio-analysis/1w8Q...</td>\n",
       "      <td>0.354</td>\n",
       "      <td>244285.0</td>\n",
       "      <td>0.302</td>\n",
       "      <td>1w8QCSDH4QobcQeT4uMKLm</td>\n",
       "      <td>0.070900</td>\n",
       "      <td>9.0</td>\n",
       "      <td>0.1110</td>\n",
       "      <td>-13.078</td>\n",
       "      <td>1.0</td>\n",
       "      <td>0.0326</td>\n",
       "      <td>123.753</td>\n",
       "      <td>4.0</td>\n",
       "      <td>https://api.spotify.com/v1/tracks/1w8QCSDH4Qob...</td>\n",
       "      <td>audio_features</td>\n",
       "      <td>spotify:track:1w8QCSDH4QobcQeT4uMKLm</td>\n",
       "      <td>0.223</td>\n",
       "      <td>2.0</td>\n",
       "    </tr>\n",
       "    <tr>\n",
       "      <th>3</th>\n",
       "      <td>0.32500</td>\n",
       "      <td>https://api.spotify.com/v1/audio-analysis/7J9m...</td>\n",
       "      <td>0.727</td>\n",
       "      <td>249940.0</td>\n",
       "      <td>0.785</td>\n",
       "      <td>7J9mBHG4J2eIfDAv5BehKA</td>\n",
       "      <td>0.126000</td>\n",
       "      <td>5.0</td>\n",
       "      <td>0.3100</td>\n",
       "      <td>-6.707</td>\n",
       "      <td>0.0</td>\n",
       "      <td>0.0603</td>\n",
       "      <td>129.649</td>\n",
       "      <td>4.0</td>\n",
       "      <td>https://api.spotify.com/v1/tracks/7J9mBHG4J2eI...</td>\n",
       "      <td>audio_features</td>\n",
       "      <td>spotify:track:7J9mBHG4J2eIfDAv5BehKA</td>\n",
       "      <td>0.960</td>\n",
       "      <td>0.0</td>\n",
       "    </tr>\n",
       "    <tr>\n",
       "      <th>4</th>\n",
       "      <td>0.02310</td>\n",
       "      <td>https://api.spotify.com/v1/audio-analysis/1VZe...</td>\n",
       "      <td>0.571</td>\n",
       "      <td>278320.0</td>\n",
       "      <td>0.724</td>\n",
       "      <td>1VZedwJj1gyi88WFRhfThb</td>\n",
       "      <td>0.003110</td>\n",
       "      <td>0.0</td>\n",
       "      <td>0.0919</td>\n",
       "      <td>-5.967</td>\n",
       "      <td>1.0</td>\n",
       "      <td>0.0260</td>\n",
       "      <td>116.755</td>\n",
       "      <td>4.0</td>\n",
       "      <td>https://api.spotify.com/v1/tracks/1VZedwJj1gyi...</td>\n",
       "      <td>audio_features</td>\n",
       "      <td>spotify:track:1VZedwJj1gyi88WFRhfThb</td>\n",
       "      <td>0.385</td>\n",
       "      <td>5.0</td>\n",
       "    </tr>\n",
       "    <tr>\n",
       "      <th>...</th>\n",
       "      <td>...</td>\n",
       "      <td>...</td>\n",
       "      <td>...</td>\n",
       "      <td>...</td>\n",
       "      <td>...</td>\n",
       "      <td>...</td>\n",
       "      <td>...</td>\n",
       "      <td>...</td>\n",
       "      <td>...</td>\n",
       "      <td>...</td>\n",
       "      <td>...</td>\n",
       "      <td>...</td>\n",
       "      <td>...</td>\n",
       "      <td>...</td>\n",
       "      <td>...</td>\n",
       "      <td>...</td>\n",
       "      <td>...</td>\n",
       "      <td>...</td>\n",
       "      <td>...</td>\n",
       "    </tr>\n",
       "    <tr>\n",
       "      <th>9913</th>\n",
       "      <td>0.10900</td>\n",
       "      <td>https://api.spotify.com/v1/audio-analysis/07Cy...</td>\n",
       "      <td>0.541</td>\n",
       "      <td>177987.0</td>\n",
       "      <td>0.830</td>\n",
       "      <td>07CyrZF9eVd02zzIse7tZA</td>\n",
       "      <td>0.701000</td>\n",
       "      <td>9.0</td>\n",
       "      <td>0.1670</td>\n",
       "      <td>-6.246</td>\n",
       "      <td>1.0</td>\n",
       "      <td>0.0316</td>\n",
       "      <td>142.592</td>\n",
       "      <td>4.0</td>\n",
       "      <td>https://api.spotify.com/v1/tracks/07CyrZF9eVd0...</td>\n",
       "      <td>audio_features</td>\n",
       "      <td>spotify:track:07CyrZF9eVd02zzIse7tZA</td>\n",
       "      <td>0.711</td>\n",
       "      <td>5.0</td>\n",
       "    </tr>\n",
       "    <tr>\n",
       "      <th>9914</th>\n",
       "      <td>0.12300</td>\n",
       "      <td>https://api.spotify.com/v1/audio-analysis/5jzm...</td>\n",
       "      <td>0.651</td>\n",
       "      <td>200480.0</td>\n",
       "      <td>0.801</td>\n",
       "      <td>5jzma6gCzYtKB1DbEwFZKH</td>\n",
       "      <td>0.000000</td>\n",
       "      <td>0.0</td>\n",
       "      <td>0.0825</td>\n",
       "      <td>-7.340</td>\n",
       "      <td>1.0</td>\n",
       "      <td>0.0513</td>\n",
       "      <td>133.763</td>\n",
       "      <td>4.0</td>\n",
       "      <td>https://api.spotify.com/v1/tracks/5jzma6gCzYtK...</td>\n",
       "      <td>audio_features</td>\n",
       "      <td>spotify:track:5jzma6gCzYtKB1DbEwFZKH</td>\n",
       "      <td>0.776</td>\n",
       "      <td>9.0</td>\n",
       "    </tr>\n",
       "    <tr>\n",
       "      <th>9915</th>\n",
       "      <td>0.08230</td>\n",
       "      <td>https://api.spotify.com/v1/audio-analysis/2fmM...</td>\n",
       "      <td>0.811</td>\n",
       "      <td>191560.0</td>\n",
       "      <td>0.647</td>\n",
       "      <td>2fmMPJb5EzZCx8BcNJvVk4</td>\n",
       "      <td>0.681000</td>\n",
       "      <td>0.0</td>\n",
       "      <td>0.0572</td>\n",
       "      <td>-10.989</td>\n",
       "      <td>1.0</td>\n",
       "      <td>0.0498</td>\n",
       "      <td>139.787</td>\n",
       "      <td>4.0</td>\n",
       "      <td>https://api.spotify.com/v1/tracks/2fmMPJb5EzZC...</td>\n",
       "      <td>audio_features</td>\n",
       "      <td>spotify:track:2fmMPJb5EzZCx8BcNJvVk4</td>\n",
       "      <td>0.990</td>\n",
       "      <td>5.0</td>\n",
       "    </tr>\n",
       "    <tr>\n",
       "      <th>9916</th>\n",
       "      <td>0.19000</td>\n",
       "      <td>https://api.spotify.com/v1/audio-analysis/60rI...</td>\n",
       "      <td>0.686</td>\n",
       "      <td>206293.0</td>\n",
       "      <td>0.610</td>\n",
       "      <td>60rIdEPDrzyLiLC0icp3xz</td>\n",
       "      <td>0.000931</td>\n",
       "      <td>7.0</td>\n",
       "      <td>0.0710</td>\n",
       "      <td>-5.902</td>\n",
       "      <td>1.0</td>\n",
       "      <td>0.0262</td>\n",
       "      <td>80.567</td>\n",
       "      <td>4.0</td>\n",
       "      <td>https://api.spotify.com/v1/tracks/60rIdEPDrzyL...</td>\n",
       "      <td>audio_features</td>\n",
       "      <td>spotify:track:60rIdEPDrzyLiLC0icp3xz</td>\n",
       "      <td>0.766</td>\n",
       "      <td>5.0</td>\n",
       "    </tr>\n",
       "    <tr>\n",
       "      <th>9917</th>\n",
       "      <td>0.00824</td>\n",
       "      <td>https://api.spotify.com/v1/audio-analysis/0sEm...</td>\n",
       "      <td>0.711</td>\n",
       "      <td>200293.0</td>\n",
       "      <td>0.718</td>\n",
       "      <td>0sEm1ld0V8YTCPcjPVfIsc</td>\n",
       "      <td>0.002080</td>\n",
       "      <td>6.0</td>\n",
       "      <td>0.0732</td>\n",
       "      <td>-5.739</td>\n",
       "      <td>1.0</td>\n",
       "      <td>0.0380</td>\n",
       "      <td>117.071</td>\n",
       "      <td>4.0</td>\n",
       "      <td>https://api.spotify.com/v1/tracks/0sEm1ld0V8YT...</td>\n",
       "      <td>audio_features</td>\n",
       "      <td>spotify:track:0sEm1ld0V8YTCPcjPVfIsc</td>\n",
       "      <td>0.688</td>\n",
       "      <td>3.0</td>\n",
       "    </tr>\n",
       "  </tbody>\n",
       "</table>\n",
       "<p>9917 rows × 19 columns</p>\n",
       "</div>"
      ],
      "text/plain": [
       "      acousticness                                       analysis_url  \\\n",
       "0          0.09400  https://api.spotify.com/v1/audio-analysis/33xM...   \n",
       "1          0.13700  https://api.spotify.com/v1/audio-analysis/3Uny...   \n",
       "2          0.59000  https://api.spotify.com/v1/audio-analysis/1w8Q...   \n",
       "3          0.32500  https://api.spotify.com/v1/audio-analysis/7J9m...   \n",
       "4          0.02310  https://api.spotify.com/v1/audio-analysis/1VZe...   \n",
       "...            ...                                                ...   \n",
       "9913       0.10900  https://api.spotify.com/v1/audio-analysis/07Cy...   \n",
       "9914       0.12300  https://api.spotify.com/v1/audio-analysis/5jzm...   \n",
       "9915       0.08230  https://api.spotify.com/v1/audio-analysis/2fmM...   \n",
       "9916       0.19000  https://api.spotify.com/v1/audio-analysis/60rI...   \n",
       "9917       0.00824  https://api.spotify.com/v1/audio-analysis/0sEm...   \n",
       "\n",
       "      danceability  duration_ms  energy                      id  \\\n",
       "0            0.310     152560.0   0.445  33xMbeHzmWd6Od0BmLZEUs   \n",
       "1            0.419     197707.0   0.565  3UnyplmZaq547hwsfOR5yy   \n",
       "2            0.354     244285.0   0.302  1w8QCSDH4QobcQeT4uMKLm   \n",
       "3            0.727     249940.0   0.785  7J9mBHG4J2eIfDAv5BehKA   \n",
       "4            0.571     278320.0   0.724  1VZedwJj1gyi88WFRhfThb   \n",
       "...            ...          ...     ...                     ...   \n",
       "9913         0.541     177987.0   0.830  07CyrZF9eVd02zzIse7tZA   \n",
       "9914         0.651     200480.0   0.801  5jzma6gCzYtKB1DbEwFZKH   \n",
       "9915         0.811     191560.0   0.647  2fmMPJb5EzZCx8BcNJvVk4   \n",
       "9916         0.686     206293.0   0.610  60rIdEPDrzyLiLC0icp3xz   \n",
       "9917         0.711     200293.0   0.718  0sEm1ld0V8YTCPcjPVfIsc   \n",
       "\n",
       "      instrumentalness  key  liveness  loudness  mode  speechiness    tempo  \\\n",
       "0             0.067800  7.0    0.1130   -13.355   0.0       0.0863   95.360   \n",
       "1             0.337000  5.0    0.1280   -11.565   1.0       0.0347  151.277   \n",
       "2             0.070900  9.0    0.1110   -13.078   1.0       0.0326  123.753   \n",
       "3             0.126000  5.0    0.3100    -6.707   0.0       0.0603  129.649   \n",
       "4             0.003110  0.0    0.0919    -5.967   1.0       0.0260  116.755   \n",
       "...                ...  ...       ...       ...   ...          ...      ...   \n",
       "9913          0.701000  9.0    0.1670    -6.246   1.0       0.0316  142.592   \n",
       "9914          0.000000  0.0    0.0825    -7.340   1.0       0.0513  133.763   \n",
       "9915          0.681000  0.0    0.0572   -10.989   1.0       0.0498  139.787   \n",
       "9916          0.000931  7.0    0.0710    -5.902   1.0       0.0262   80.567   \n",
       "9917          0.002080  6.0    0.0732    -5.739   1.0       0.0380  117.071   \n",
       "\n",
       "      time_signature                                         track_href  \\\n",
       "0                3.0  https://api.spotify.com/v1/tracks/33xMbeHzmWd6...   \n",
       "1                4.0  https://api.spotify.com/v1/tracks/3UnyplmZaq54...   \n",
       "2                4.0  https://api.spotify.com/v1/tracks/1w8QCSDH4Qob...   \n",
       "3                4.0  https://api.spotify.com/v1/tracks/7J9mBHG4J2eI...   \n",
       "4                4.0  https://api.spotify.com/v1/tracks/1VZedwJj1gyi...   \n",
       "...              ...                                                ...   \n",
       "9913             4.0  https://api.spotify.com/v1/tracks/07CyrZF9eVd0...   \n",
       "9914             4.0  https://api.spotify.com/v1/tracks/5jzma6gCzYtK...   \n",
       "9915             4.0  https://api.spotify.com/v1/tracks/2fmMPJb5EzZC...   \n",
       "9916             4.0  https://api.spotify.com/v1/tracks/60rIdEPDrzyL...   \n",
       "9917             4.0  https://api.spotify.com/v1/tracks/0sEm1ld0V8YT...   \n",
       "\n",
       "                type                                   uri  valence  cluster  \n",
       "0     audio_features  spotify:track:33xMbeHzmWd6Od0BmLZEUs    0.122      2.0  \n",
       "1     audio_features  spotify:track:3UnyplmZaq547hwsfOR5yy    0.648      6.0  \n",
       "2     audio_features  spotify:track:1w8QCSDH4QobcQeT4uMKLm    0.223      2.0  \n",
       "3     audio_features  spotify:track:7J9mBHG4J2eIfDAv5BehKA    0.960      0.0  \n",
       "4     audio_features  spotify:track:1VZedwJj1gyi88WFRhfThb    0.385      5.0  \n",
       "...              ...                                   ...      ...      ...  \n",
       "9913  audio_features  spotify:track:07CyrZF9eVd02zzIse7tZA    0.711      5.0  \n",
       "9914  audio_features  spotify:track:5jzma6gCzYtKB1DbEwFZKH    0.776      9.0  \n",
       "9915  audio_features  spotify:track:2fmMPJb5EzZCx8BcNJvVk4    0.990      5.0  \n",
       "9916  audio_features  spotify:track:60rIdEPDrzyLiLC0icp3xz    0.766      5.0  \n",
       "9917  audio_features  spotify:track:0sEm1ld0V8YTCPcjPVfIsc    0.688      3.0  \n",
       "\n",
       "[9917 rows x 19 columns]"
      ]
     },
     "execution_count": 59,
     "metadata": {},
     "output_type": "execute_result"
    }
   ],
   "source": [
    "features_db.dropna()"
   ]
  },
  {
   "cell_type": "code",
   "execution_count": 60,
   "metadata": {},
   "outputs": [],
   "source": [
    "features_db = features_db[features_db['cluster'].notna()]"
   ]
  },
  {
   "cell_type": "code",
   "execution_count": 61,
   "metadata": {},
   "outputs": [],
   "source": [
    "features_db.cluster = features_db.cluster.apply(lambda x: int(x))"
   ]
  },
  {
   "cell_type": "code",
   "execution_count": 62,
   "metadata": {},
   "outputs": [
    {
     "data": {
      "text/plain": [
       "{'tracks': {'href': 'https://api.spotify.com/v1/search?query=https%3A%2F%2Fapi.spotify.com%2Fv1%2Fplaylists%2F6yPiKpy7evrwvZodByKvM9%2Ftracks%3Foffset%3D100%26limit%3D100%26additional_types%3Dtrack&type=track&offset=0&limit=10',\n",
       "  'items': [],\n",
       "  'limit': 10,\n",
       "  'next': None,\n",
       "  'offset': 0,\n",
       "  'previous': None,\n",
       "  'total': 0}}"
      ]
     },
     "execution_count": 62,
     "metadata": {},
     "output_type": "execute_result"
    }
   ],
   "source": [
    "spotify.search(q = playlist[\"next\"])"
   ]
  },
  {
   "cell_type": "markdown",
   "metadata": {},
   "source": [
    "---"
   ]
  },
  {
   "cell_type": "markdown",
   "metadata": {},
   "source": [
    "### Prototipe 1"
   ]
  },
  {
   "cell_type": "code",
   "execution_count": 63,
   "metadata": {},
   "outputs": [],
   "source": [
    "import random "
   ]
  },
  {
   "cell_type": "code",
   "execution_count": 64,
   "metadata": {},
   "outputs": [],
   "source": [
    "# User input function \n",
    "\n",
    "def initialize(): \n",
    "    \n",
    "    print(\"**************************************** Welcome to Gnod's World of Music ****************************************\\n\\n\")\n",
    "    print(\"Gnod is a self-adapting system that recomends songs to the users based on the song they input.\\nIf the song is currently on the top 100 list Gnods engine recomends another song from the top 100 list.\\nIf the song is not on the top 100 list, the powerful Gnods engine will match the features of the song inputed\\nand will return a similar song from the Gnods´song database.\\n\\n\\n\")\n",
    "    global song\n",
    "    global artist\n",
    "    while True: \n",
    "        song = input(\"Do you have a song in mind?: \\n\").capitalize()\n",
    "        print(\"\\n\")\n",
    "        artist = input(\"Which is the artist/s of your song?: \\n(you can say none if you don´t know)\\n\").capitalize\n",
    "        print(\"\\n\")\n",
    "        hotSong()\n",
    "        break"
   ]
  },
  {
   "cell_type": "code",
   "execution_count": 65,
   "metadata": {},
   "outputs": [],
   "source": [
    "# Check hot song function \n",
    "def hotSong(): \n",
    "        if song in list(billboard_rank[\"song_name\"]):\n",
    "            print(\"\\nAwesome, this song is currently on the top 100\\n\")\n",
    "            random_100 = random.choice(billboard_rank[\"song_name\"])\n",
    "            print(f\"\\nWe believe that you might also like: {random_100}\\n\")\n",
    "            moreRecomendations()\n",
    "        else: \n",
    "            not_hot_list()\n",
    "            #moreRecomendations() "
   ]
  },
  {
   "cell_type": "code",
   "execution_count": 66,
   "metadata": {},
   "outputs": [],
   "source": [
    "# recomend song from spotify if the input song is not in the top 100\n",
    "\n",
    "def not_hot_list():\n",
    "    global track_id\n",
    "    if song not in list(billboard_rank[\"song_name\"]):\n",
    "        track = spotify.search(q = [song, artist],  limit = 1)\n",
    "        track_id = []\n",
    "        for t in track[\"tracks\"][\"items\"]:\n",
    "            track_id.append(t[\"uri\"])\n",
    "        audio_features()\n",
    "        input_scaler = scale_userinput()\n",
    "        z = match_input(features_db, 'cluster', input_scaler[0])\n",
    "        y = pd.DataFrame(z)\n",
    "        p = y['uri'].values\n",
    "        track_info = p[0]\n",
    "        u = spotify.track(track_info)\n",
    "        print(\"GREAT CHOICE! Here is our recomendation for you:\\n\")\n",
    "        print(u['name'], \"by\", u[\"album\"][\"artists\"][0][\"name\"])\n",
    "        #print(f\"The song you have selected is not on the Hot Rank\\n\\nHowever you might like: {random_alltime}\\n\\n\")"
   ]
  },
  {
   "cell_type": "code",
   "execution_count": 67,
   "metadata": {},
   "outputs": [],
   "source": [
    "def audio_features():\n",
    "    global audio_f\n",
    "    audio_f = spotify.audio_features(track_id)\n",
    "    #print(audio_features)"
   ]
  },
  {
   "cell_type": "code",
   "execution_count": 68,
   "metadata": {},
   "outputs": [],
   "source": [
    "def scale_userinput():\n",
    "    audio_features_df=pd.DataFrame(audio_f)\n",
    "    audio_features_df=audio_features_df.loc[:,['acousticness', 'danceability', 'duration_ms', 'energy','instrumentalness', 'key', 'liveness', 'loudness', 'mode','speechiness', 'tempo', 'time_signature', 'valence',]]\n",
    "    X_scaled = scaler.transform(audio_features_df)\n",
    "    input_scaler = kmeans.predict(X_scaled)\n",
    "    return input_scaler"
   ]
  },
  {
   "cell_type": "code",
   "execution_count": 69,
   "metadata": {},
   "outputs": [],
   "source": [
    "def moreRecomendations():\n",
    "    more = input(\"Do you want more recomendations? Please enter Yes or No: \\n\\n\").lower()\n",
    "    while True:\n",
    "        if more == \"yes\":\n",
    "            initialize()\n",
    "            break\n",
    "        elif more == \"no\":\n",
    "            print(\"\\nThank You, have a good day\")\n",
    "            break"
   ]
  },
  {
   "cell_type": "code",
   "execution_count": 70,
   "metadata": {},
   "outputs": [],
   "source": [
    "def get_songs():\n",
    "    songs_list = set()\n",
    "    \n",
    "    for song in playlist[\"items\"]:\n",
    "        songs_list.add(song[\"track\"][\"uri\"])\n",
    "        \n",
    "    print(songs_list)"
   ]
  },
  {
   "cell_type": "code",
   "execution_count": 71,
   "metadata": {},
   "outputs": [],
   "source": [
    "def match_input(df, cluster_column, input_scaler):\n",
    "    match = df[df[cluster_column] == input_scaler].sample(1)\n",
    "    return match"
   ]
  },
  {
   "cell_type": "code",
   "execution_count": 77,
   "metadata": {},
   "outputs": [
    {
     "name": "stdout",
     "output_type": "stream",
     "text": [
      "**************************************** Welcome to Gnod's World of Music ****************************************\n",
      "\n",
      "\n",
      "Gnod is a self-adapting system that recomends songs to the users based on the song they input.\n",
      "If the song is currently on the top 100 list Gnods engine recomends another song from the top 100 list.\n",
      "If the song is not on the top 100 list, the powerful Gnods engine will match the features of the song inputed\n",
      "and will return a similar song from the Gnods´song database.\n",
      "\n",
      "\n",
      "\n"
     ]
    },
    {
     "name": "stdin",
     "output_type": "stream",
     "text": [
      "Do you have a song in mind?: \n",
      " Despacito\n"
     ]
    },
    {
     "name": "stdout",
     "output_type": "stream",
     "text": [
      "\n",
      "\n"
     ]
    },
    {
     "name": "stdin",
     "output_type": "stream",
     "text": [
      "Which is the artist/s of your song?: \n",
      "(you can say none if you don´t know)\n",
      " Luis Fonsi\n"
     ]
    },
    {
     "name": "stdout",
     "output_type": "stream",
     "text": [
      "\n",
      "\n",
      "GREAT CHOICE! Here is our recomendation for you:\n",
      "\n",
      "Careless by Beach Fossils\n"
     ]
    }
   ],
   "source": [
    "initialize()"
   ]
  },
  {
   "cell_type": "code",
   "execution_count": null,
   "metadata": {},
   "outputs": [],
   "source": []
  }
 ],
 "metadata": {
  "kernelspec": {
   "display_name": "Python 3",
   "language": "python",
   "name": "python3"
  },
  "language_info": {
   "codemirror_mode": {
    "name": "ipython",
    "version": 3
   },
   "file_extension": ".py",
   "mimetype": "text/x-python",
   "name": "python",
   "nbconvert_exporter": "python",
   "pygments_lexer": "ipython3",
   "version": "3.8.5"
  }
 },
 "nbformat": 4,
 "nbformat_minor": 4
}
